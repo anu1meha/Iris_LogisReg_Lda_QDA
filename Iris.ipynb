{
 "cells": [
  {
   "cell_type": "code",
   "execution_count": 21,
   "metadata": {},
   "outputs": [],
   "source": [
    "from sklearn.ensemble import RandomForestClassifier\n",
    "from sklearn.svm import SVC\n",
    "from sklearn.linear_model import LogisticRegression\n",
    "from sklearn.discriminant_analysis import LinearDiscriminantAnalysis, QuadraticDiscriminantAnalysis\n",
    "from sklearn.model_selection import cross_val_score\n",
    "from matplotlib import pyplot\n",
    "import numpy as np\n",
    "from sklearn.datasets import load_iris\n",
    "import pandas as pd\n",
    "from sklearn.metrics import accuracy_score\n",
    "from sklearn.metrics import confusion_matrix\n",
    "from sklearn.metrics import classification_report\n"
   ]
  },
  {
   "cell_type": "code",
   "execution_count": 22,
   "metadata": {},
   "outputs": [],
   "source": [
    "#Load Iris Data\n",
    "iris = load_iris() # load the iris dataset\n",
    "#X=iris.data\n",
    "#y=iris.target\n",
    "#Create Pandas-dataframe\n",
    "iris_df = pd.DataFrame(data= np.c_[iris['data'], iris['target']],columns= iris['feature_names'] + ['target'])"
   ]
  },
  {
   "cell_type": "code",
   "execution_count": 23,
   "metadata": {},
   "outputs": [
    {
     "data": {
      "text/plain": [
       "(100, 5)"
      ]
     },
     "execution_count": 23,
     "metadata": {},
     "output_type": "execute_result"
    }
   ],
   "source": [
    "#Selecting two classes of IRIS DataSet\n",
    "iris_new = iris_df.drop(iris_df[iris_df.target == 2].index)\n",
    "#Save New dataset\n",
    "iris_new.to_csv('iris_new.csv')\n",
    "iris_new.shape"
   ]
  },
  {
   "cell_type": "code",
   "execution_count": 24,
   "metadata": {},
   "outputs": [
    {
     "name": "stdout",
     "output_type": "stream",
     "text": [
      "[0. 0. 0. 0. 0. 0. 0. 0. 0. 0. 0. 0. 0. 0. 0. 0. 0. 0. 0. 0. 0. 0. 0. 0.\n",
      " 0. 0. 0. 0. 0. 0. 0. 0. 0. 0. 0. 0. 0. 0. 0. 0. 0. 0. 0. 0. 0. 0. 0. 0.\n",
      " 0. 0. 1. 1. 1. 1. 1. 1. 1. 1. 1. 1. 1. 1. 1. 1. 1. 1. 1. 1. 1. 1. 1. 1.\n",
      " 1. 1. 1. 1. 1. 1. 1. 1. 1. 1. 1. 1. 1. 1. 1. 1. 1. 1. 1. 1. 1. 1. 1. 1.\n",
      " 1. 1. 1. 1.]\n"
     ]
    }
   ],
   "source": [
    "#Load New Dataset\n",
    "url=\"https://raw.githubusercontent.com/anu1meha/Iris-Dataset-Analysis-LogocReg-LDA-QDA-/master/iris_new.csv\"\n",
    "\n",
    "#print(iris_new.shape)\n",
    "\n",
    "data = pd.read_csv(url ,error_bad_lines=False)\n",
    "data.shape\n",
    "#new x,y dataframe\n",
    "X= data.iloc[:,1:5].values\n",
    "y= data.iloc[:,5].values\n",
    "\n",
    "print(y)\n"
   ]
  },
  {
   "cell_type": "code",
   "execution_count": 25,
   "metadata": {},
   "outputs": [
    {
     "name": "stdout",
     "output_type": "stream",
     "text": [
      "[1. 0. 0. 1. 0. 1. 1. 1. 0. 0. 1. 1. 1. 1. 1. 1. 0. 0. 0. 0.]\n"
     ]
    }
   ],
   "source": [
    "#split data in train and validation set\n",
    "from sklearn.cross_validation import train_test_split\n",
    "X_train, X_val, y_train, y_val = train_test_split(X, y, test_size=0.2,)\n",
    "print(y_val)"
   ]
  },
  {
   "cell_type": "code",
   "execution_count": 26,
   "metadata": {},
   "outputs": [],
   "source": [
    "#Logistic Regression\n",
    "model1 = LogisticRegression(penalty='l2', C=0.001, random_state=0)\n",
    "model1.fit(X_train, y_train)\n",
    "output = model1.predict(X_val)\n",
    "\n",
    "\n",
    "#LDA\n",
    "model2 = LinearDiscriminantAnalysis()\n",
    "model2.fit(X_train, y_train)\n",
    "output = model2.predict(X_val)\n",
    "\n",
    "#QDA\n",
    "model3 = QuadraticDiscriminantAnalysis()\n",
    "model3.fit(X_train, y_train)\n",
    "output = model3.predict(X_val)\n"
   ]
  },
  {
   "cell_type": "code",
   "execution_count": 27,
   "metadata": {},
   "outputs": [],
   "source": [
    "# Summary of the Evaluation made by the models"
   ]
  },
  {
   "cell_type": "code",
   "execution_count": 28,
   "metadata": {},
   "outputs": [
    {
     "data": {
      "text/plain": [
       "(array([-0.00280112]),\n",
       " array([[ 0.00299109, -0.02104326,  0.04540159,  0.01853068]]))"
      ]
     },
     "execution_count": 28,
     "metadata": {},
     "output_type": "execute_result"
    }
   ],
   "source": [
    "#Logistic Regression \n",
    "model1.intercept_, model1.coef_"
   ]
  },
  {
   "cell_type": "code",
   "execution_count": 29,
   "metadata": {},
   "outputs": [
    {
     "name": "stdout",
     "output_type": "stream",
     "text": [
      "[0.5125 0.4875]\n",
      "[[5.02195122 3.42682927 1.45609756 0.25121951]\n",
      " [5.98461538 2.78461538 4.24102564 1.33333333]]\n",
      "[[ -5.21846245 -14.59808457  21.76361213  28.35310866]]\n"
     ]
    }
   ],
   "source": [
    "#LDA Evalutation\n",
    "model2.intercept_\n",
    "print(model2.priors_)\n",
    "print(model2.means_)\n",
    "print(model2.coef_)"
   ]
  },
  {
   "cell_type": "code",
   "execution_count": 30,
   "metadata": {},
   "outputs": [
    {
     "name": "stdout",
     "output_type": "stream",
     "text": [
      "[0.5125 0.4875]\n",
      "[[5.02195122 3.42682927 1.45609756 0.25121951]\n",
      " [5.98461538 2.78461538 4.24102564 1.33333333]]\n"
     ]
    }
   ],
   "source": [
    "#QDA Evaluation\n",
    "print(model3.priors_)\n",
    "print(model3.means_)"
   ]
  },
  {
   "cell_type": "code",
   "execution_count": 31,
   "metadata": {},
   "outputs": [],
   "source": [
    "#Summary of the predictions made by the models-"
   ]
  },
  {
   "cell_type": "code",
   "execution_count": 32,
   "metadata": {},
   "outputs": [
    {
     "name": "stdout",
     "output_type": "stream",
     "text": [
      "(array([1.]), array([20], dtype=int64))\n",
      "[[ 0  0]\n",
      " [ 9 11]]\n",
      "             precision    recall  f1-score   support\n",
      "\n",
      "        0.0      0.000     0.000     0.000         9\n",
      "        1.0      0.550     1.000     0.710        11\n",
      "\n",
      "avg / total      0.303     0.550     0.390        20\n",
      "\n",
      "('accuracy is', 0.55)\n"
     ]
    }
   ],
   "source": [
    "#Logistic Regression Prediction\n",
    "pred1=model1.predict(X_val)\n",
    "print(np.unique(pred1, return_counts=True))\n",
    "print(confusion_matrix(pred1, y_val))\n",
    "print(classification_report(y_val, pred1, digits=3))\n",
    "print('accuracy is',accuracy_score(pred1,y_val))"
   ]
  },
  {
   "cell_type": "code",
   "execution_count": 33,
   "metadata": {},
   "outputs": [
    {
     "name": "stdout",
     "output_type": "stream",
     "text": [
      "(array([0., 1.]), array([ 9, 11], dtype=int64))\n",
      "[[ 9  0]\n",
      " [ 0 11]]\n",
      "             precision    recall  f1-score   support\n",
      "\n",
      "        0.0      1.000     1.000     1.000         9\n",
      "        1.0      1.000     1.000     1.000        11\n",
      "\n",
      "avg / total      1.000     1.000     1.000        20\n",
      "\n",
      "('accuracy is', 1.0)\n"
     ]
    }
   ],
   "source": [
    "#LDA Prediction\n",
    "pred2=model2.predict(X_val)\n",
    "print(np.unique(pred2, return_counts=True))\n",
    "print(confusion_matrix(pred2, y_val))\n",
    "print(classification_report(y_val, pred2, digits=3))\n",
    "print('accuracy is',accuracy_score(pred2,y_val))"
   ]
  },
  {
   "cell_type": "code",
   "execution_count": 34,
   "metadata": {},
   "outputs": [
    {
     "name": "stdout",
     "output_type": "stream",
     "text": [
      "(array([0., 1.]), array([ 9, 11], dtype=int64))\n",
      "[[ 9  0]\n",
      " [ 0 11]]\n",
      "             precision    recall  f1-score   support\n",
      "\n",
      "        0.0      1.000     1.000     1.000         9\n",
      "        1.0      1.000     1.000     1.000        11\n",
      "\n",
      "avg / total      1.000     1.000     1.000        20\n",
      "\n",
      "('accuracy is', 1.0)\n"
     ]
    }
   ],
   "source": [
    "#QDA Prediction\n",
    "from sklearn.metrics import confusion_matrix, classification_report, precision_score\n",
    "pred3=model3.predict(X_val)\n",
    "print(np.unique(pred3, return_counts=True))\n",
    "print(confusion_matrix(pred3, y_val))\n",
    "print(classification_report(y_val, pred3, digits=3))\n",
    "print('accuracy is',accuracy_score(pred3,y_val))"
   ]
  },
  {
   "cell_type": "code",
   "execution_count": 35,
   "metadata": {},
   "outputs": [
    {
     "data": {
      "image/png": "[encoded data removed]",
      "text/plain": [
       "<Figure size 432x288 with 1 Axes>"
      ]
     },
     "metadata": {
      "needs_background": "light"
     },
     "output_type": "display_data"
    }
   ],
   "source": [
    "#ROC Curve for model1-Logistic Regression:\n",
    "from sklearn import metrics\n",
    "pred1_proba = model1.predict_proba(X_val)[::,1]\n",
    "fpr1, tpr1, _ = metrics.roc_curve(y_val,  pred1_proba)\n",
    "auc1 = metrics.roc_auc_score(y_val, pred1_proba)\n",
    "pyplot.plot(fpr1,tpr1,label=\"data 1, auc1=\"+str(auc1))\n",
    "pyplot.legend(loc=4)\n",
    "pyplot.show()"
   ]
  },
  {
   "cell_type": "code",
   "execution_count": 36,
   "metadata": {},
   "outputs": [
    {
     "data": {
      "image/png": "[encoded data removed]",
      "text/plain": [
       "<Figure size 432x288 with 1 Axes>"
      ]
     },
     "metadata": {
      "needs_background": "light"
     },
     "output_type": "display_data"
    }
   ],
   "source": [
    "#ROC Curve for model2-LDA:\n",
    "from sklearn import metrics\n",
    "pred2_proba = model2.predict_proba(X_val)[::,1]\n",
    "fpr2, tpr2, _ = metrics.roc_curve(y_val,  pred2_proba)\n",
    "auc2 = metrics.roc_auc_score(y_val, pred2_proba)\n",
    "pyplot.plot(fpr2,tpr2,label=\"data 2, auc2=\"+str(auc2))\n",
    "pyplot.legend(loc=4)\n",
    "pyplot.show()"
   ]
  },
  {
   "cell_type": "code",
   "execution_count": 37,
   "metadata": {},
   "outputs": [
    {
     "data": {
      "image/png": "[encoded data removed]",
      "text/plain": [
       "<Figure size 432x288 with 1 Axes>"
      ]
     },
     "metadata": {
      "needs_background": "light"
     },
     "output_type": "display_data"
    }
   ],
   "source": [
    "#ROC Curve for model2-LDA:\n",
    "from sklearn import metrics\n",
    "pred3_proba = model3.predict_proba(X_val)[::,1]\n",
    "fpr3, tpr3, _ = metrics.roc_curve(y_val,  pred3_proba)\n",
    "auc3 = metrics.roc_auc_score(y_val, pred3_proba)\n",
    "pyplot.plot(fpr3,tpr3,label=\"data 3, auc3=\"+str(auc3))\n",
    "pyplot.legend(loc=4)\n",
    "pyplot.show()"
   ]
  },
  {
   "cell_type": "code",
   "execution_count": 38,
   "metadata": {},
   "outputs": [],
   "source": [
    "#Comparision among all models:"
   ]
  },
  {
   "cell_type": "code",
   "execution_count": 39,
   "metadata": {},
   "outputs": [
    {
     "name": "stdout",
     "output_type": "stream",
     "text": [
      "10-fold cross validation:\n",
      "\n",
      "ROC AUC: 1.00 (+/- 0.00) [Logistic Regression]\n",
      "ROC AUC: 1.00 (+/- 0.00) [LDA]\n",
      "ROC AUC: 1.00 (+/- 0.00) [QDA]\n"
     ]
    }
   ],
   "source": [
    "all_clf = [model1, model2, model3]\n",
    "print('10-fold cross validation:\\n')\n",
    "clf_labels = [\n",
    "    'Logistic Regression',\n",
    "    'LDA',\n",
    "    'QDA',\n",
    "    ]\n",
    "for clf, label in zip(all_clf, clf_labels):\n",
    "    scores = cross_val_score(\n",
    "    estimator=clf,\n",
    "    X=X_train,\n",
    "    y=y_train,\n",
    "    cv=10,\n",
    "    scoring='roc_auc',\n",
    "    )\n",
    "    print(\"ROC AUC: %0.2f (+/- %0.2f) [%s]\" % (scores.mean(), scores.std(), label))\n",
    "\n"
   ]
  },
  {
   "cell_type": "code",
   "execution_count": 40,
   "metadata": {},
   "outputs": [
    {
     "data": {
      "image/png": "[encoded data removed]",
      "text/plain": [
       "<Figure size 432x288 with 1 Axes>"
      ]
     },
     "metadata": {
      "needs_background": "light"
     },
     "output_type": "display_data"
    }
   ],
   "source": [
    "from sklearn.metrics import roc_curve, auc\n",
    "colors = ['black', 'orange', 'blue', 'green','pink']\n",
    "linestyles = [':', '--', '-.', '-','-']\n",
    "\n",
    "for clf, label, clr, ls in zip(all_clf, clf_labels, colors, linestyles):\n",
    "    y_pred = clf.fit(X_train, y_train).predict_proba(X_val)[:, 1]\n",
    "    fpr, tpr, thresholds = roc_curve(y_true=y_val, y_score=y_pred)\n",
    "    roc_auc = auc(x=fpr, y=tpr)\n",
    "    pyplot.plot(\n",
    "    fpr,\n",
    "    tpr,\n",
    "    color=clr,\n",
    "    linestyle=ls,\n",
    "    label='%s (auc = %0.2f)' % (label, roc_auc)\n",
    "    )\n",
    "pyplot.legend(loc='lower right')\n",
    "pyplot.plot(\n",
    "[0, 1],\n",
    "[0, 1],\n",
    "linestyle='--',\n",
    "color='gray',\n",
    "linewidth=2,\n",
    ")\n",
    "pyplot.xlim([-0.1, 1.1])\n",
    "pyplot.ylim([-0.1, 1.1])\n",
    "pyplot.grid()\n",
    "pyplot.xlabel('False Positive Rate')\n",
    "pyplot.ylabel('True Positive Rate')\n",
    "pyplot.show()"
   ]
  },
  {
   "cell_type": "code",
   "execution_count": null,
   "metadata": {},
   "outputs": [],
   "source": []
  }
 ],
 "metadata": {
  "kernelspec": {
   "display_name": "Python 2",
   "language": "python",
   "name": "python2"
  },
  "language_info": {
   "codemirror_mode": {
    "name": "ipython",
    "version": 2
   },
   "file_extension": ".py",
   "mimetype": "text/x-python",
   "name": "python",
   "nbconvert_exporter": "python",
   "pygments_lexer": "ipython2",
   "version": "2.7.15"
  }
 },
 "nbformat": 4,
 "nbformat_minor": 2
}
